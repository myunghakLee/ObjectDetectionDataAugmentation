{
 "cells": [
  {
   "cell_type": "code",
   "execution_count": 25,
   "metadata": {},
   "outputs": [
    {
     "data": {
      "application/vnd.jupyter.widget-view+json": {
       "model_id": "fd1572519edc42bc97ab23e83f6cb228",
       "version_major": 2,
       "version_minor": 0
      },
      "text/plain": [
       "HBox(children=(FloatProgress(value=0.0, max=8000.0), HTML(value='')))"
      ]
     },
     "metadata": {},
     "output_type": "display_data"
    },
    {
     "name": "stdout",
     "output_type": "stream",
     "text": [
      "\n"
     ]
    }
   ],
   "source": [
    "import json\n",
    "from tqdm.notebook import tqdm\n",
    "\n",
    "json_dict = {}\n",
    "json_dict[\"features\"] = []\n",
    "Gdata = {}\n",
    "\n",
    "with open(\"generating_labels.json\") as json_file:\n",
    "    json_data = json.load(json_file)\n",
    "    for data in json_data:\n",
    "        Gdata[data] = json_data[data]\n",
    "\n",
    "arr_data = []\n",
    "\n",
    "type_name_arr = [\"container\",\"oil tanker\",\"aircraft carrier\",\"maritime vessels\"]\n",
    "\n",
    "for data in tqdm(Gdata):\n",
    "    length = len(Gdata[data][\"class_id\"])\n",
    "    temp_dict = {}\n",
    "    for i in range(length):\n",
    "        temp_dict[\"geometry\"] = {}\n",
    "        temp_dict[\"geometry\"][\"coordinates\"] = [[[0,0,0],[0,0,0],[0,0,0],[0,0,0]]]\n",
    "        temp_dict[\"geometry\"][\"type\"] = \"Polygon\"\n",
    "        temp_dict[\"properties\"] = {}\n",
    "        temp_dict[\"properties\"][\"bounds_imcoords\"] = bounding_box\n",
    "        temp_dict[\"properties\"][\"edited_by\"] = \"mh9716\"\n",
    "        temp_dict[\"properties\"][\"feature_id\"] = [str(i) + str(data)]\n",
    "        temp_dict[\"properties\"][\"image_id\"] = data\n",
    "        temp_dict[\"properties\"][\"ingest_time\"] = \"2020:07:12\"\n",
    "        temp_dict[\"properties\"][\"type_id\"] = Gdata[data][\"class_id\"][i]\n",
    "        temp_dict[\"properties\"][\"type_name\"] = type_name_arr[Gdata[data][\"class_id\"][i] - 1]\n",
    "        temp_dict[\"type\"] = \"Feature\"\n",
    "        arr_data.append(temp_dict)\n",
    "# print(arr_data)\n",
    "json_dict[\"features\"] = arr_data\n",
    "\n",
    "with open(\"converting.json\", \"w\") as json_file:\n",
    "    json.dump(json_dict, json_file)\n",
    "\n",
    "    \n"
   ]
  },
  {
   "cell_type": "code",
   "execution_count": 29,
   "metadata": {},
   "outputs": [
    {
     "data": {
      "text/plain": [
       "1"
      ]
     },
     "execution_count": 29,
     "metadata": {},
     "output_type": "execute_result"
    }
   ],
   "source": [
    "len(json_dict)"
   ]
  }
 ],
 "metadata": {
  "kernelspec": {
   "display_name": "Python 3",
   "language": "python",
   "name": "python3"
  },
  "language_info": {
   "codemirror_mode": {
    "name": "ipython",
    "version": 3
   },
   "file_extension": ".py",
   "mimetype": "text/x-python",
   "name": "python",
   "nbconvert_exporter": "python",
   "pygments_lexer": "ipython3",
   "version": "3.6.10"
  }
 },
 "nbformat": 4,
 "nbformat_minor": 4
}
