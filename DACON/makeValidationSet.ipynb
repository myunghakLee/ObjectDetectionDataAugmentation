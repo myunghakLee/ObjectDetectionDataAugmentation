{
 "cells": [
  {
   "cell_type": "code",
   "execution_count": 28,
   "metadata": {},
   "outputs": [
    {
     "name": "stdout",
     "output_type": "stream",
     "text": [
      "0 0\n",
      "1 1\n",
      "2 3\n",
      "3 4\n",
      "4 5\n",
      "5 6\n",
      "6 7\n",
      "7 8\n",
      "8 9\n",
      "9 10\n",
      "10 11\n",
      "11 12\n",
      "12 13\n",
      "13 14\n",
      "14 15\n",
      "15 16\n",
      "16 17\n",
      "17 18\n",
      "18 19\n",
      "19 20\n",
      "20 21\n",
      "21 22\n",
      "22 23\n",
      "23 24\n",
      "24 25\n",
      "25 27\n",
      "26 28\n",
      "27 29\n",
      "28 30\n",
      "29 31\n",
      "30 32\n",
      "31 33\n",
      "32 34\n",
      "33 35\n",
      "34 36\n",
      "35 39\n",
      "36 40\n",
      "37 41\n",
      "38 42\n",
      "39 43\n",
      "40 44\n",
      "41 45\n",
      "42 46\n",
      "43 47\n",
      "44 48\n",
      "45 49\n",
      "46 50\n",
      "47 51\n",
      "48 52\n",
      "49 53\n",
      "50 54\n",
      "51 55\n",
      "52 56\n",
      "53 57\n",
      "54 58\n",
      "55 59\n",
      "56 60\n",
      "57 61\n",
      "58 62\n",
      "59 63\n",
      "60 64\n",
      "61 65\n",
      "62 66\n",
      "63 67\n",
      "64 68\n",
      "65 69\n",
      "66 70\n",
      "67 71\n",
      "68 72\n",
      "69 73\n",
      "70 75\n",
      "71 76\n",
      "72 77\n",
      "73 78\n",
      "74 79\n",
      "75 80\n",
      "76 82\n",
      "77 84\n",
      "78 85\n",
      "79 86\n",
      "80 87\n",
      "81 90\n",
      "82 91\n",
      "83 92\n",
      "84 93\n",
      "85 94\n",
      "86 95\n",
      "87 96\n",
      "88 97\n",
      "89 98\n",
      "90 99\n",
      "91 100\n",
      "92 101\n",
      "93 102\n",
      "94 103\n",
      "95 104\n",
      "96 105\n",
      "97 107\n",
      "98 108\n",
      "99 109\n",
      "100 110\n"
     ]
    }
   ],
   "source": [
    "import numpy as np\n",
    "import json\n",
    "from PIL import Image\n",
    "Gdata = {}\n",
    "with open(\"labels.json\") as json_file:\n",
    "    Gdata = json.load(json_file)\n",
    "    \n",
    "\n",
    "WriteDict = {}\n",
    "WriteDict[\"features\"] = []\n",
    "WriteDict[\"type\"] = Gdata[\"type\"]\n",
    "\n",
    "#print(Gdata[\"features\"][0]['properties']['image_id'])\n",
    "before_image_num = -1\n",
    "ValidationNum = 0\n",
    "\n",
    "for data in Gdata[\"features\"]:\n",
    "    WriteDict[\"features\"].append(data)\n",
    "    image_num = int(data['properties']['image_id'].split('.')[0])\n",
    "    if image_num != before_image_num:\n",
    "        print(ValidationNum, image_num)\n",
    "        before_image_num = image_num\n",
    "        !cp Object/{image_num}.png Validation\n",
    "        ValidationNum+=1\n",
    "    if ValidationNum > 100:\n",
    "        break\n",
    "    \n",
    "    \n",
    "with open(\"Validation.json\", \"w\") as json_file:\n",
    "    json.dump(WriteDict, json_file,indent=4)\n"
   ]
  },
  {
   "cell_type": "code",
   "execution_count": 4,
   "metadata": {},
   "outputs": [
    {
     "ename": "NameError",
     "evalue": "name 'image_number' is not defined",
     "output_type": "error",
     "traceback": [
      "\u001b[0;31m---------------------------------------------------------------------------\u001b[0m",
      "\u001b[0;31mNameError\u001b[0m                                 Traceback (most recent call last)",
      "\u001b[0;32m<ipython-input-4-1d3ebfadaca1>\u001b[0m in \u001b[0;36m<module>\u001b[0;34m\u001b[0m\n\u001b[1;32m      3\u001b[0m \u001b[0mpath\u001b[0m \u001b[0;34m=\u001b[0m \u001b[0;34m\"Object/\"\u001b[0m\u001b[0;34m\u001b[0m\u001b[0;34m\u001b[0m\u001b[0m\n\u001b[1;32m      4\u001b[0m \u001b[0mfile_list\u001b[0m \u001b[0;34m=\u001b[0m \u001b[0mos\u001b[0m\u001b[0;34m.\u001b[0m\u001b[0mlistdir\u001b[0m\u001b[0;34m(\u001b[0m\u001b[0mpath\u001b[0m\u001b[0;34m)\u001b[0m\u001b[0;34m\u001b[0m\u001b[0;34m\u001b[0m\u001b[0m\n\u001b[0;32m----> 5\u001b[0;31m \u001b[0mimg\u001b[0m \u001b[0;34m=\u001b[0m \u001b[0mimread\u001b[0m\u001b[0;34m(\u001b[0m\u001b[0;34m\"Object/\"\u001b[0m \u001b[0;34m+\u001b[0m \u001b[0mfile_list\u001b[0m\u001b[0;34m[\u001b[0m\u001b[0mimage_number\u001b[0m\u001b[0;34m]\u001b[0m\u001b[0;34m)\u001b[0m\u001b[0;34m\u001b[0m\u001b[0;34m\u001b[0m\u001b[0m\n\u001b[0m\u001b[1;32m      6\u001b[0m \u001b[0mplt\u001b[0m\u001b[0;34m.\u001b[0m\u001b[0mfigure\u001b[0m\u001b[0;34m(\u001b[0m\u001b[0mfigsize\u001b[0m\u001b[0;34m=\u001b[0m\u001b[0;34m(\u001b[0m\u001b[0;36m30\u001b[0m\u001b[0;34m,\u001b[0m \u001b[0;36m30\u001b[0m\u001b[0;34m)\u001b[0m\u001b[0;34m)\u001b[0m\u001b[0;34m\u001b[0m\u001b[0;34m\u001b[0m\u001b[0m\n\u001b[1;32m      7\u001b[0m \u001b[0;34m\u001b[0m\u001b[0m\n",
      "\u001b[0;31mNameError\u001b[0m: name 'image_number' is not defined"
     ]
    }
   ],
   "source": []
  },
  {
   "cell_type": "code",
   "execution_count": 5,
   "metadata": {},
   "outputs": [
    {
     "data": {
      "application/vnd.jupyter.widget-view+json": {
       "model_id": "51a212c15f114c6a9a8f9088a66e7cf6",
       "version_major": 2,
       "version_minor": 0
      },
      "text/plain": [
       "HBox(children=(FloatProgress(value=0.0, max=1593.0), HTML(value='')))"
      ]
     },
     "metadata": {},
     "output_type": "display_data"
    },
    {
     "name": "stdout",
     "output_type": "stream",
     "text": [
      "\n"
     ]
    },
    {
     "ename": "NameError",
     "evalue": "name 'image_dict' is not defined",
     "output_type": "error",
     "traceback": [
      "\u001b[0;31m---------------------------------------------------------------------------\u001b[0m",
      "\u001b[0;31mNameError\u001b[0m                                 Traceback (most recent call last)",
      "\u001b[0;32m<ipython-input-5-3c30d285848f>\u001b[0m in \u001b[0;36m<module>\u001b[0;34m\u001b[0m\n\u001b[1;32m      9\u001b[0m \u001b[0;32mfor\u001b[0m \u001b[0mimage_number\u001b[0m \u001b[0;32min\u001b[0m \u001b[0mtqdm\u001b[0m\u001b[0;34m(\u001b[0m\u001b[0mrange\u001b[0m\u001b[0;34m(\u001b[0m\u001b[0mlen\u001b[0m\u001b[0;34m(\u001b[0m\u001b[0mfile_list\u001b[0m\u001b[0;34m)\u001b[0m\u001b[0;34m)\u001b[0m\u001b[0;34m)\u001b[0m\u001b[0;34m:\u001b[0m\u001b[0;34m\u001b[0m\u001b[0;34m\u001b[0m\u001b[0m\n\u001b[1;32m     10\u001b[0m     \u001b[0mim\u001b[0m \u001b[0;34m=\u001b[0m \u001b[0mImage\u001b[0m\u001b[0;34m.\u001b[0m\u001b[0mopen\u001b[0m\u001b[0;34m(\u001b[0m\u001b[0;34m\"Object/\"\u001b[0m \u001b[0;34m+\u001b[0m \u001b[0mfile_list\u001b[0m\u001b[0;34m[\u001b[0m\u001b[0mimage_number\u001b[0m\u001b[0;34m]\u001b[0m\u001b[0;34m)\u001b[0m\u001b[0;34m.\u001b[0m\u001b[0mconvert\u001b[0m\u001b[0;34m(\u001b[0m\u001b[0;34m\"RGBA\"\u001b[0m\u001b[0;34m)\u001b[0m\u001b[0;34m\u001b[0m\u001b[0;34m\u001b[0m\u001b[0m\n\u001b[0;32m---> 11\u001b[0;31m     \u001b[0;32mfor\u001b[0m \u001b[0mi\u001b[0m \u001b[0;32min\u001b[0m \u001b[0mrange\u001b[0m\u001b[0;34m(\u001b[0m\u001b[0mlen\u001b[0m\u001b[0;34m(\u001b[0m\u001b[0mimage_dict\u001b[0m\u001b[0;34m[\u001b[0m\u001b[0mfile_list\u001b[0m\u001b[0;34m[\u001b[0m\u001b[0mimage_number\u001b[0m\u001b[0;34m]\u001b[0m\u001b[0;34m]\u001b[0m\u001b[0;34m[\u001b[0m\u001b[0;34m\"bounding_box\"\u001b[0m\u001b[0;34m]\u001b[0m\u001b[0;34m)\u001b[0m\u001b[0;34m)\u001b[0m\u001b[0;34m:\u001b[0m\u001b[0;34m\u001b[0m\u001b[0;34m\u001b[0m\u001b[0m\n\u001b[0m\u001b[1;32m     12\u001b[0m         \u001b[0mboxX\u001b[0m \u001b[0;34m=\u001b[0m \u001b[0;34m[\u001b[0m\u001b[0mimage_dict\u001b[0m\u001b[0;34m[\u001b[0m\u001b[0mfile_list\u001b[0m\u001b[0;34m[\u001b[0m\u001b[0mimage_number\u001b[0m\u001b[0;34m]\u001b[0m\u001b[0;34m]\u001b[0m\u001b[0;34m[\u001b[0m\u001b[0;34m\"bounding_box\"\u001b[0m\u001b[0;34m]\u001b[0m\u001b[0;34m[\u001b[0m\u001b[0mi\u001b[0m\u001b[0;34m]\u001b[0m\u001b[0;34m[\u001b[0m\u001b[0mj\u001b[0m\u001b[0;34m]\u001b[0m \u001b[0;32mfor\u001b[0m \u001b[0mj\u001b[0m \u001b[0;32min\u001b[0m \u001b[0mrange\u001b[0m\u001b[0;34m(\u001b[0m\u001b[0;34m-\u001b[0m\u001b[0;36m2\u001b[0m\u001b[0;34m,\u001b[0m\u001b[0;36m8\u001b[0m\u001b[0;34m,\u001b[0m\u001b[0;36m2\u001b[0m\u001b[0;34m)\u001b[0m\u001b[0;34m]\u001b[0m\u001b[0;34m\u001b[0m\u001b[0;34m\u001b[0m\u001b[0m\n\u001b[1;32m     13\u001b[0m         \u001b[0mboxY\u001b[0m \u001b[0;34m=\u001b[0m \u001b[0;34m[\u001b[0m\u001b[0mimage_dict\u001b[0m\u001b[0;34m[\u001b[0m\u001b[0mfile_list\u001b[0m\u001b[0;34m[\u001b[0m\u001b[0mimage_number\u001b[0m\u001b[0;34m]\u001b[0m\u001b[0;34m]\u001b[0m\u001b[0;34m[\u001b[0m\u001b[0;34m\"bounding_box\"\u001b[0m\u001b[0;34m]\u001b[0m\u001b[0;34m[\u001b[0m\u001b[0mi\u001b[0m\u001b[0;34m]\u001b[0m\u001b[0;34m[\u001b[0m\u001b[0mj\u001b[0m\u001b[0;34m]\u001b[0m \u001b[0;32mfor\u001b[0m \u001b[0mj\u001b[0m \u001b[0;32min\u001b[0m \u001b[0mrange\u001b[0m\u001b[0;34m(\u001b[0m\u001b[0;34m-\u001b[0m\u001b[0;36m1\u001b[0m\u001b[0;34m,\u001b[0m\u001b[0;36m8\u001b[0m\u001b[0;34m,\u001b[0m\u001b[0;36m2\u001b[0m\u001b[0;34m)\u001b[0m\u001b[0;34m]\u001b[0m\u001b[0;34m\u001b[0m\u001b[0;34m\u001b[0m\u001b[0m\n",
      "\u001b[0;31mNameError\u001b[0m: name 'image_dict' is not defined"
     ]
    }
   ],
   "source": [
    "import cv2\n",
    "import numpy as np\n",
    "from PIL import Image, ImageDraw\n",
    "from tqdm.notebook import tqdm\n",
    "\n",
    "#img = imread(\"Airbus/Object/\" + file_list[0])\n",
    "category_num = [0,0,0,0]\n",
    "\n",
    "for image_number in tqdm(range(len(file_list))):\n",
    "    im = Image.open(\"Object/\" + file_list[image_number]).convert(\"RGBA\")\n",
    "    for i in range(len(image_dict[file_list[image_number]][\"bounding_box\"])):\n",
    "        boxX = [image_dict[file_list[image_number]][\"bounding_box\"][i][j] for j in range(-2,8,2)] \n",
    "        boxY = [image_dict[file_list[image_number]][\"bounding_box\"][i][j] for j in range(-1,8,2)] \n",
    "        if min(boxX) < 0 or min(boxY) < 0 or max(boxX) > 3000 or max(boxY) > 3000:\n",
    "            continue\n",
    "\n",
    "\n",
    "        type_id = image_dict[file_list[image_number]][\"type_id\"][i]\n",
    "\n",
    "        imArray = np.asarray(im)\n",
    "        polygon = []\n",
    "        for j in range(len(boxX)):\n",
    "            T = (int(boxX[j]),int(boxY[j]))\n",
    "            polygon.append(T)\n",
    "\n",
    "        maskIm = Image.new('L', (imArray.shape[1], imArray.shape[0]), 0)\n",
    "        ImageDraw.Draw(maskIm).polygon(polygon, outline=1, fill=1)\n",
    "        mask = np.array(maskIm)\n",
    "        # assemble new image (uint8: 0-255)\n",
    "        newImArray = np.empty(imArray.shape,dtype='uint8')\n",
    "\n",
    "        newImArray[:,:,:3] = imArray[:,:,:3]\n",
    "        newImArray[:,:,3] = mask*255\n",
    "\n",
    "    #    newIm = Image.fromarray(newImArray, \"RGBA\")\n",
    "\n",
    "\n",
    "        data = []\n",
    "        for j in range(int(min(boxY)), int(max(boxY))):\n",
    "            T = []\n",
    "            for k in range(int(min(boxX)), int(max(boxX))):\n",
    "                T.append(list(newImArray[j][k]))\n",
    "            data.append(T)\n",
    "        data = np.array(data)\n",
    "        newIm = Image.fromarray(data, \"RGBA\")\n",
    "        print(newIm.size)\n",
    "        break\n",
    "\n",
    "        save_file_name = str(type_id) + \"_\"+str(category_num[type_id-1]) + \".png\"\n",
    "        category_num[type_id-1] += 1\n",
    "        newIm.save(\"Boat/\" + save_file_name)\n"
   ]
  },
  {
   "cell_type": "code",
   "execution_count": 19,
   "metadata": {},
   "outputs": [
    {
     "name": "stdout",
     "output_type": "stream",
     "text": [
      "9960\n"
     ]
    },
    {
     "data": {
      "text/plain": [
       "['1_2255.png',\n",
       " '4_4557.png',\n",
       " '2_671.png',\n",
       " '4_4558.png',\n",
       " '4_4559.png',\n",
       " '4_4560.png',\n",
       " '4_4561.png',\n",
       " '4_4562.png',\n",
       " '4_4563.png',\n",
       " '4_4564.png']"
      ]
     },
     "execution_count": 19,
     "metadata": {},
     "output_type": "execute_result"
    }
   ],
   "source": [
    "import os\n",
    "file_list = os.listdir(\"Boat\")\n",
    "print(len(file_list))\n",
    "file_list[7500:7510]"
   ]
  },
  {
   "cell_type": "code",
   "execution_count": 5,
   "metadata": {},
   "outputs": [
    {
     "ename": "TypeError",
     "evalue": "'Image' object does not support indexing",
     "output_type": "error",
     "traceback": [
      "\u001b[0;31m---------------------------------------------------------------------------\u001b[0m",
      "\u001b[0;31mTypeError\u001b[0m                                 Traceback (most recent call last)",
      "\u001b[0;32m<ipython-input-5-83c87fbab483>\u001b[0m in \u001b[0;36m<module>\u001b[0;34m\u001b[0m\n\u001b[1;32m      3\u001b[0m \u001b[0;34m\u001b[0m\u001b[0m\n\u001b[1;32m      4\u001b[0m \u001b[0mim\u001b[0m \u001b[0;34m=\u001b[0m \u001b[0mImage\u001b[0m\u001b[0;34m.\u001b[0m\u001b[0mopen\u001b[0m\u001b[0;34m(\u001b[0m\u001b[0;34m\"Object/268.png\"\u001b[0m\u001b[0;34m)\u001b[0m\u001b[0;34m.\u001b[0m\u001b[0mconvert\u001b[0m\u001b[0;34m(\u001b[0m\u001b[0;34m\"RGBA\"\u001b[0m\u001b[0;34m)\u001b[0m\u001b[0;34m\u001b[0m\u001b[0;34m\u001b[0m\u001b[0m\n\u001b[0;32m----> 5\u001b[0;31m \u001b[0mim\u001b[0m\u001b[0;34m[\u001b[0m\u001b[0;36m0\u001b[0m\u001b[0;34m]\u001b[0m\u001b[0;34m\u001b[0m\u001b[0;34m\u001b[0m\u001b[0m\n\u001b[0m",
      "\u001b[0;31mTypeError\u001b[0m: 'Image' object does not support indexing"
     ]
    }
   ],
   "source": [
    "from PIL import Image, ImageDraw\n",
    "\n",
    "\n",
    "im = Image.open(\"Object/268.png\").convert(\"RGBA\")\n",
    "im\n"
   ]
  },
  {
   "cell_type": "code",
   "execution_count": null,
   "metadata": {},
   "outputs": [],
   "source": []
  }
 ],
 "metadata": {
  "kernelspec": {
   "display_name": "Python 3",
   "language": "python",
   "name": "python3"
  },
  "language_info": {
   "codemirror_mode": {
    "name": "ipython",
    "version": 3
   },
   "file_extension": ".py",
   "mimetype": "text/x-python",
   "name": "python",
   "nbconvert_exporter": "python",
   "pygments_lexer": "ipython3",
   "version": "3.6.10"
  }
 },
 "nbformat": 4,
 "nbformat_minor": 4
}
