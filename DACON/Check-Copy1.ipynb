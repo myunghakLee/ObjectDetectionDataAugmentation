{
 "cells": [
  {
   "cell_type": "code",
   "execution_count": 10,
   "metadata": {},
   "outputs": [
    {
     "name": "stdout",
     "output_type": "stream",
     "text": [
      "['0.png', '1.png', '3.png', '4.png', '5.png', '6.png', '7.png', '8.png', '9.png', '10.png', '11.png', '12.png', '13.png', '14.png', '15.png', '16.png', '17.png', '18.png', '19.png', '20.png', '21.png', '22.png', '23.png', '24.png', '25.png', '27.png', '28.png', '29.png', '30.png', '31.png', '32.png', '33.png', '34.png', '35.png', '36.png', '39.png', '40.png', '41.png', '42.png', '43.png', '44.png', '45.png', '46.png', '47.png', '48.png', '49.png', '50.png', '51.png', '52.png', '53.png', '54.png', '55.png', '56.png', '57.png', '58.png', '59.png', '60.png', '61.png', '62.png', '63.png', '64.png', '65.png', '66.png', '67.png', '68.png', '69.png', '70.png', '71.png', '72.png', '73.png', '75.png', '76.png', '77.png', '78.png', '79.png', '80.png', '82.png', '84.png', '85.png', '86.png', '87.png', '90.png', '91.png', '92.png', '93.png', '94.png', '95.png', '96.png', '97.png', '98.png', '99.png', '100.png', '101.png', '102.png', '103.png', '104.png', '105.png', '107.png', '108.png', '109.png', '110.png']\n"
     ]
    }
   ],
   "source": [
    "from PIL import Image\n",
    "import os\n",
    "import json\n",
    "from matplotlib import pyplot as plt\n",
    "\n",
    "file_list = os.listdir(\"Validation/\")\n",
    "print(file_list)\n",
    "im = Image.open(\"Validation/\" + \"4.png\")\n",
    "\n",
    "with open(\"Validation.json\") as json_data:\n",
    "    data = json.load(json_data)\n",
    "\n",
    "\n"
   ]
  },
  {
   "cell_type": "code",
   "execution_count": null,
   "metadata": {
    "scrolled": true
   },
   "outputs": [
    {
     "data": {
      "text/plain": [
       "<matplotlib.image.AxesImage at 0x7f850a8c6d68>"
      ]
     },
     "execution_count": 11,
     "metadata": {},
     "output_type": "execute_result"
    }
   ],
   "source": [
    "plt.figure(figsize = (10,10))\n",
    "for Tdata in data[\"features\"]:\n",
    "    if Tdata[\"properties\"][\"image_id\"] == '3.png':\n",
    "        im = Image.open(\"Validation/\" + file_list[0])\n",
    "        box = list(map(float, Tdata[\"properties\"][\"bounds_imcoords\"].split(',')))\n",
    "        X = [box[i] for i in range(0, 8,2)] + [box[0]]\n",
    "        Y = [box[i] for i in range(1,8,2)] + [box[1]]\n",
    "        plt.plot(X,Y)\n",
    "plt.imshow(im)\n"
   ]
  },
  {
   "cell_type": "code",
   "execution_count": 44,
   "metadata": {},
   "outputs": [
    {
     "name": "stdout",
     "output_type": "stream",
     "text": [
      "0.9537169507482269\n",
      "-0.3007057995042731\n",
      "16.43395827794302,6.23644668371162,0.0,6.125030015839002,0.04152562781564484,0.0,16.475483905758665,0.11141666787261784\n"
     ]
    },
    {
     "data": {
      "image/png": "[encoded data removed]",
      "text/plain": [
       "<Figure size 432x288 with 1 Axes>"
      ]
     },
     "metadata": {
      "needs_background": "light"
     },
     "output_type": "display_data"
    }
   ],
   "source": [
    "from PIL import Image\n",
    "import os\n",
    "import json\n",
    "from matplotlib import pyplot as plt\n",
    "import math\n",
    "\n",
    "angle = 17.5\n",
    "pi = -angle / 180 * math.pi\n",
    "\n",
    "print (math.cos(pi))\n",
    "print (math.sin(pi))\n",
    "\n",
    "def rotate_arr(lists):\n",
    "    X = [lists[i] for i in range(0, 8,2)] + [lists[0]]\n",
    "    Y = [lists[i] for i in range(1,8,2)] + [lists[1]]    \n",
    "    meanX = (max(X) + min(X))/2\n",
    "    meanY = (max(Y) + min(Y))/2\n",
    "    X = [X[i] - meanX for i in range(len(X))]\n",
    "    Y = [Y[i] - meanY for i in range(len(Y))]\n",
    "    X_ = [X[i]*math.cos(pi) - Y[i]*math.sin(pi) for i in range(5)]\n",
    "    Y_ = [X[i]*math.sin(pi) + Y[i]*math.cos(pi) for i in range(5)]\n",
    "    X_ = [X_[i] + meanX for i in range(len(X_))]\n",
    "    Y_ = [Y_[i] + meanY for i in range(len(Y_))]    \n",
    "\n",
    "    return X_, Y_\n",
    "\n",
    "\n",
    "boat_name = '2_3.png'\n",
    "#boat_name = '3_7.png'\n",
    "\n",
    "with open(\"../../boat_labels.json\") as json_data:\n",
    "    data = json.load(json_data)\n",
    "    print(data[boat_name])\n",
    "    lists = list(map(float, data[boat_name].split(',')))\n",
    "    X_, Y_ = rotate_arr(lists)\n",
    "    im = Image.open(\"../../Boat3/\" + boat_name)\n",
    "    im = im.rotate(angle)\n",
    "\n",
    "#     X = [lists[i]*math.cos(pi) - lists[i+1]*math.sin(pi) for i in range(0, 8,2)] + [lists[0]]\n",
    "#     Y = [lists[i-1] * math.sin(pi) + lists[i]*math.cos(pi) for i in range(1,8,2)] + [lists[1]]\n",
    "    plt.plot(X_,Y_,linewidth = 5)\n",
    "    plt.imshow(im)\n"
   ]
  },
  {
   "cell_type": "code",
   "execution_count": 24,
   "metadata": {},
   "outputs": [
    {
     "ename": "TypeError",
     "evalue": "zip argument #1 must support iteration",
     "output_type": "error",
     "traceback": [
      "\u001b[0;31m---------------------------------------------------------------------------\u001b[0m",
      "\u001b[0;31mTypeError\u001b[0m                                 Traceback (most recent call last)",
      "\u001b[0;32m<ipython-input-24-7ca52b272937>\u001b[0m in \u001b[0;36m<module>\u001b[0;34m\u001b[0m\n\u001b[0;32m----> 1\u001b[0;31m \u001b[0mA\u001b[0m \u001b[0;34m=\u001b[0m \u001b[0;34m[\u001b[0m\u001b[0mzip\u001b[0m\u001b[0;34m(\u001b[0m\u001b[0mi\u001b[0m\u001b[0;34m,\u001b[0m\u001b[0mi\u001b[0m\u001b[0;34m+\u001b[0m\u001b[0;36m1\u001b[0m\u001b[0;34m)\u001b[0m \u001b[0;32mfor\u001b[0m \u001b[0mi\u001b[0m \u001b[0;32min\u001b[0m \u001b[0mrange\u001b[0m\u001b[0;34m(\u001b[0m\u001b[0;36m4\u001b[0m\u001b[0;34m)\u001b[0m\u001b[0;34m]\u001b[0m\u001b[0;34m\u001b[0m\u001b[0;34m\u001b[0m\u001b[0m\n\u001b[0m\u001b[1;32m      2\u001b[0m \u001b[0mA\u001b[0m\u001b[0;34m\u001b[0m\u001b[0;34m\u001b[0m\u001b[0m\n",
      "\u001b[0;32m<ipython-input-24-7ca52b272937>\u001b[0m in \u001b[0;36m<listcomp>\u001b[0;34m(.0)\u001b[0m\n\u001b[0;32m----> 1\u001b[0;31m \u001b[0mA\u001b[0m \u001b[0;34m=\u001b[0m \u001b[0;34m[\u001b[0m\u001b[0mzip\u001b[0m\u001b[0;34m(\u001b[0m\u001b[0mi\u001b[0m\u001b[0;34m,\u001b[0m\u001b[0mi\u001b[0m\u001b[0;34m+\u001b[0m\u001b[0;36m1\u001b[0m\u001b[0;34m)\u001b[0m \u001b[0;32mfor\u001b[0m \u001b[0mi\u001b[0m \u001b[0;32min\u001b[0m \u001b[0mrange\u001b[0m\u001b[0;34m(\u001b[0m\u001b[0;36m4\u001b[0m\u001b[0;34m)\u001b[0m\u001b[0;34m]\u001b[0m\u001b[0;34m\u001b[0m\u001b[0;34m\u001b[0m\u001b[0m\n\u001b[0m\u001b[1;32m      2\u001b[0m \u001b[0mA\u001b[0m\u001b[0;34m\u001b[0m\u001b[0;34m\u001b[0m\u001b[0m\n",
      "\u001b[0;31mTypeError\u001b[0m: zip argument #1 must support iteration"
     ]
    }
   ],
   "source": [
    "A = [zip(i,i+1) for i in range(4)]\n",
    "A"
   ]
  },
  {
   "cell_type": "code",
   "execution_count": null,
   "metadata": {},
   "outputs": [],
   "source": []
  }
 ],
 "metadata": {
  "kernelspec": {
   "display_name": "Python 3",
   "language": "python",
   "name": "python3"
  },
  "language_info": {
   "codemirror_mode": {
    "name": "ipython",
    "version": 3
   },
   "file_extension": ".py",
   "mimetype": "text/x-python",
   "name": "python",
   "nbconvert_exporter": "python",
   "pygments_lexer": "ipython3",
   "version": "3.6.10"
  }
 },
 "nbformat": 4,
 "nbformat_minor": 4
}
