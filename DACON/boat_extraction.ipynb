{
 "cells": [
  {
   "cell_type": "code",
   "execution_count": 1,
   "metadata": {},
   "outputs": [],
   "source": [
    "import json\n",
    "image_dict = {}\n",
    "\n",
    "with open('labels.json') as json_file:\n",
    "    json_data = json.load(json_file)\n",
    "    for data in json_data[\"features\"]:\n",
    "        image_id = data[\"properties\"][\"image_id\"]\n",
    "        imcoords = list(map(float, data[\"properties\"][\"bounds_imcoords\"].split(',')))\n",
    "        type_id = data[\"properties\"][\"type_id\"]\n",
    "        try:\n",
    "            image_dict[image_id][\"bounding_box\"].append(imcoords)\n",
    "            image_dict[image_id][\"type_id\"].append(type_id)\n",
    "        except:\n",
    "            image_dict[image_id] = {}\n",
    "            image_dict[image_id][\"bounding_box\"] = []\n",
    "            image_dict[image_id][\"type_id\"] = []\n",
    "            image_dict[image_id][\"bounding_box\"].append(imcoords)\n",
    "            image_dict[image_id][\"type_id\"].append(type_id)\n"
   ]
  },
  {
   "cell_type": "code",
   "execution_count": null,
   "metadata": {},
   "outputs": [],
   "source": []
  },
  {
   "cell_type": "code",
   "execution_count": 51,
   "metadata": {},
   "outputs": [
    {
     "data": {
      "application/vnd.jupyter.widget-view+json": {
       "model_id": "b0231a9ced194c4caf6aa583b78777ea",
       "version_major": 2,
       "version_minor": 0
      },
      "text/plain": [
       "HBox(children=(FloatProgress(value=0.0, max=1593.0), HTML(value='')))"
      ]
     },
     "metadata": {},
     "output_type": "display_data"
    }
   ],
   "source": [
    "import cv2\n",
    "import numpy as np\n",
    "from PIL import Image, ImageDraw\n",
    "from tqdm.notebook import tqdm\n",
    "import os\n",
    "#img = imread(\"Airbus/Object/\" + file_list[0])\n",
    "category_num = [0,0,0,0]\n",
    "file_list = os.listdir(\"Object\")\n",
    "\n",
    "save_dict = {}\n",
    "for image_number in tqdm(range(len(file_list))):\n",
    "    im = Image.open(\"Object/\" + file_list[image_number]).convert(\"RGBA\")\n",
    "    for i in range(len(image_dict[file_list[image_number]][\"bounding_box\"])):\n",
    "        boxX = [image_dict[file_list[image_number]][\"bounding_box\"][i][j] for j in range(-2,8,2)] \n",
    "        boxY = [image_dict[file_list[image_number]][\"bounding_box\"][i][j] for j in range(-1,8,2)] \n",
    "        if min(boxX) < 0 or min(boxY) < 0 or max(boxX) > 3000 or max(boxY) > 3000:\n",
    "            continue\n",
    "\n",
    "\n",
    "        type_id = image_dict[file_list[image_number]][\"type_id\"][i]\n",
    "\n",
    "        imArray = np.asarray(im)\n",
    "        polygon = []\n",
    "        for j in range(len(boxX)):\n",
    "            T = (int(boxX[j]),int(boxY[j]))\n",
    "            polygon.append(T)\n",
    "\n",
    "        maskIm = Image.new('L', (imArray.shape[1], imArray.shape[0]), 0)\n",
    "        ImageDraw.Draw(maskIm).polygon(polygon, outline=1, fill=1)\n",
    "        mask = np.array(maskIm)\n",
    "        # assemble new image (uint8: 0-255)\n",
    "        newImArray = np.empty(imArray.shape,dtype='uint8')\n",
    "\n",
    "        newImArray[:,:,:3] = imArray[:,:,:3]\n",
    "        newImArray[:,:,3] = mask*255\n",
    "\n",
    "    #    newIm = Image.fromarray(newImArray, \"RGBA\")\n",
    "\n",
    "\n",
    "        data = []\n",
    "        for j in range(int(min(boxY)), int(max(boxY))):\n",
    "            T = []\n",
    "            for k in range(int(min(boxX)), int(max(boxX))):\n",
    "                T.append(list(newImArray[j][k]))\n",
    "            data.append(T)\n",
    "        data = np.array(data)\n",
    "        newIm = Image.fromarray(data, \"RGBA\")\n",
    "        newIm\n",
    "\n",
    "        save_file_name = str(type_id) + \"_\"+str(category_num[type_id-1]) + \".png\"\n",
    "        category_num[type_id-1] += 1\n",
    "        newIm.save(\"Boat2/\" + save_file_name)\n",
    "        \n",
    "        boxX = np.array(boxX)\n",
    "        boxY = np.array(boxY)\n",
    "        boxX -= min(boxX)\n",
    "        boxY -= min(boxY)\n",
    "        save_dict[save_file_name] = (str(boxX[0]) +\",\" +str(boxY[0]) + \",\" +\n",
    "        str(boxX[1]) +\",\" +str(boxY[1]) + \",\"+str(boxX[2]) +\",\" +str(boxY[2]) + \",\"+\n",
    "        str(boxX[3]) +\",\" +str(boxY[3]))\n",
    "with open(\"boat_labels.json\", 'w') as json_file:\n",
    "    json.dump(save_dict, json_file)\n",
    "\n"
   ]
  },
  {
   "cell_type": "code",
   "execution_count": 53,
   "metadata": {},
   "outputs": [],
   "source": [
    "with open(\"boat_labels.json\", 'w') as json_file:\n",
    "    json.dump(save_dict, json_file)\n"
   ]
  },
  {
   "cell_type": "code",
   "execution_count": null,
   "metadata": {},
   "outputs": [],
   "source": []
  }
 ],
 "metadata": {
  "kernelspec": {
   "display_name": "Python 3",
   "language": "python",
   "name": "python3"
  },
  "language_info": {
   "codemirror_mode": {
    "name": "ipython",
    "version": 3
   },
   "file_extension": ".py",
   "mimetype": "text/x-python",
   "name": "python",
   "nbconvert_exporter": "python",
   "pygments_lexer": "ipython3",
   "version": "3.6.10"
  }
 },
 "nbformat": 4,
 "nbformat_minor": 4
}
